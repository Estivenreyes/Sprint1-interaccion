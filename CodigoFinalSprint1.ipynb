{
 "cells": [
  {
   "cell_type": "code",
   "execution_count": 2,
   "id": "9d42d45c",
   "metadata": {},
   "outputs": [],
   "source": [
    "import pandas as pd"
   ]
  },
  {
   "cell_type": "code",
   "execution_count": 3,
   "id": "55e0b4ec",
   "metadata": {},
   "outputs": [],
   "source": [
    "data = pd.read_csv(R'C:\\Users\\Usuario\\Desktop\\TrabajosDMI\\Interacción sociotecnologica\\Lista2.csv')"
   ]
  },
  {
   "cell_type": "code",
   "execution_count": 4,
   "id": "37b6b6fc",
   "metadata": {},
   "outputs": [
    {
     "name": "stdout",
     "output_type": "stream",
     "text": [
      "\n",
      "Before sorting:\n"
     ]
    }
   ],
   "source": [
    "print(\"\\nBefore sorting:\")"
   ]
  },
  {
   "cell_type": "code",
   "execution_count": 5,
   "id": "3d90307a",
   "metadata": {},
   "outputs": [
    {
     "name": "stdout",
     "output_type": "stream",
     "text": [
      "                Nombres  Edad  hamburguesas\n",
      "0  Juan Manuel Enriquez    18             8\n",
      "1        Maria Gonzales    46             1\n",
      "2           Mejia Rojas    33             8\n",
      "3      Isabella Jimenez    24            10\n",
      "4          Jhon Giraldo    43             4\n",
      "5          Harold Mejia    44             9\n",
      "6     Juan Camilo Rojas     3             3\n",
      "7       Alejandra Maria     2             8\n",
      "8   Juanjose de la rosa    12             3\n"
     ]
    }
   ],
   "source": [
    "print(data)"
   ]
  },
  {
   "cell_type": "code",
   "execution_count": 42,
   "id": "07990c60",
   "metadata": {},
   "outputs": [
    {
     "name": "stdout",
     "output_type": "stream",
     "text": [
      "Escribe 1 para Edad o 2 para Hamburguesas:1\n",
      "Escribe 1 para ascendte o 2 para decendente:2\n"
     ]
    }
   ],
   "source": [
    "select = \"\"\n",
    "inputTest = input(\"Escribe 1 para Edad o 2 para Hamburguesas:\")\n",
    "\n",
    "select2 = \"\"\n",
    "inputTest2 = input(\"Escribe 1 para ascendente o 2 para decendente:\")"
   ]
  },
  {
   "cell_type": "code",
   "execution_count": 43,
   "id": "38b3ee54",
   "metadata": {},
   "outputs": [],
   "source": [
    "select = inputTest\n",
    "\n",
    "select2 = inputTest2\n",
    "\n",
    "if select == \"1\" and select2 == \"2\":\n",
    "    data.sort_values([\"Edad\"], \n",
    "                    axis=0,\n",
    "                    ascending=[False], \n",
    "                    inplace=True)\n",
    "if select == \"2\" and select2 == \"2\":\n",
    "    data.sort_values([\"hamburguesas\"], \n",
    "                    axis=0,\n",
    "                    ascending=[False], \n",
    "                    inplace=True)\n",
    "    \n",
    "if select == \"1\" and select2 == \"1\":\n",
    "    data.sort_values([\"Edad\"], \n",
    "                    axis=0,\n",
    "                    ascending=[True], \n",
    "                    inplace=True)\n",
    "    \n",
    "if select == \"2\" and select2 == \"1\":\n",
    "    data.sort_values([\"hamburguesas\"], \n",
    "                    axis=0,\n",
    "                    ascending=[True], \n",
    "                    inplace=True)"
   ]
  },
  {
   "cell_type": "code",
   "execution_count": 44,
   "id": "663c5694",
   "metadata": {},
   "outputs": [
    {
     "name": "stdout",
     "output_type": "stream",
     "text": [
      "                Nombres  Edad  hamburguesas\n",
      "1        Maria Gonzales    46             1\n",
      "5          Harold Mejia    44             9\n",
      "4          Jhon Giraldo    43             4\n",
      "2           Mejia Rojas    33             8\n",
      "3      Isabella Jimenez    24            10\n",
      "0  Juan Manuel Enriquez    18             8\n",
      "8   Juanjose de la rosa    12             3\n",
      "6     Juan Camilo Rojas     3             3\n",
      "7       Alejandra Maria     2             8\n"
     ]
    }
   ],
   "source": [
    "print(data)"
   ]
  }
 ],
 "metadata": {
  "kernelspec": {
   "display_name": "Python 3 (ipykernel)",
   "language": "python",
   "name": "python3"
  },
  "language_info": {
   "codemirror_mode": {
    "name": "ipython",
    "version": 3
   },
   "file_extension": ".py",
   "mimetype": "text/x-python",
   "name": "python",
   "nbconvert_exporter": "python",
   "pygments_lexer": "ipython3",
   "version": "3.9.12"
  }
 },
 "nbformat": 4,
 "nbformat_minor": 5
}
